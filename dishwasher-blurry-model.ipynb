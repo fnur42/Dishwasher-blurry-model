{
 "cells": [
  {
   "cell_type": "markdown",
   "id": "e2b85a98",
   "metadata": {
    "papermill": {
     "duration": 0.005083,
     "end_time": "2024-05-01T11:07:46.605910",
     "exception": false,
     "start_time": "2024-05-01T11:07:46.600827",
     "status": "completed"
    },
    "tags": []
   },
   "source": [
    "# **Bulanık Mantık Kütüphanelerini İmport Etme**"
   ]
  },
  {
   "cell_type": "code",
   "execution_count": 1,
   "id": "a170b173",
   "metadata": {
    "_cell_guid": "b1076dfc-b9ad-4769-8c92-a6c4dae69d19",
    "_uuid": "8f2839f25d086af736a60e9eeb907d3b93b6e0e5",
    "execution": {
     "iopub.execute_input": "2024-05-01T11:07:46.617654Z",
     "iopub.status.busy": "2024-05-01T11:07:46.616993Z",
     "iopub.status.idle": "2024-05-01T11:08:09.297042Z",
     "shell.execute_reply": "2024-05-01T11:08:09.295938Z"
    },
    "papermill": {
     "duration": 22.689141,
     "end_time": "2024-05-01T11:08:09.299857",
     "exception": false,
     "start_time": "2024-05-01T11:07:46.610716",
     "status": "completed"
    },
    "tags": []
   },
   "outputs": [
    {
     "name": "stdout",
     "output_type": "stream",
     "text": [
      "Collecting scikit-fuzzy\r\n",
      "  Downloading scikit-fuzzy-0.4.2.tar.gz (993 kB)\r\n",
      "\u001b[2K     \u001b[90m━━━━━━━━━━━━━━━━━━━━━━━━━━━━━━━━━━━━━━━\u001b[0m \u001b[32m994.0/994.0 kB\u001b[0m \u001b[31m4.5 MB/s\u001b[0m eta \u001b[36m0:00:00\u001b[0m\r\n",
      "\u001b[?25h  Preparing metadata (setup.py) ... \u001b[?25l-\b \b\\\b \b|\b \b/\b \b-\b \bdone\r\n",
      "\u001b[?25hRequirement already satisfied: numpy>=1.6.0 in /opt/conda/lib/python3.10/site-packages (from scikit-fuzzy) (1.26.4)\r\n",
      "Requirement already satisfied: scipy>=0.9.0 in /opt/conda/lib/python3.10/site-packages (from scikit-fuzzy) (1.11.4)\r\n",
      "Requirement already satisfied: networkx>=1.9.0 in /opt/conda/lib/python3.10/site-packages (from scikit-fuzzy) (3.2.1)\r\n",
      "Building wheels for collected packages: scikit-fuzzy\r\n",
      "  Building wheel for scikit-fuzzy (setup.py) ... \u001b[?25l-\b \b\\\b \b|\b \b/\b \b-\b \b\\\b \b|\b \bdone\r\n",
      "\u001b[?25h  Created wheel for scikit-fuzzy: filename=scikit_fuzzy-0.4.2-py3-none-any.whl size=894077 sha256=03748f5f2772a3b967285e4137d4857867409fac638cab304705e3cf89e5e322\r\n",
      "  Stored in directory: /root/.cache/pip/wheels/4f/86/1b/dfd97134a2c8313e519bcebd95d3fedc7be7944db022094bc8\r\n",
      "Successfully built scikit-fuzzy\r\n",
      "Installing collected packages: scikit-fuzzy\r\n",
      "Successfully installed scikit-fuzzy-0.4.2\r\n"
     ]
    }
   ],
   "source": [
    "!pip install scikit-fuzzy\n",
    "\n",
    "import numpy as mat\n",
    "import skfuzzy as bulanik\n",
    "from skfuzzy import control as kontrol"
   ]
  },
  {
   "cell_type": "markdown",
   "id": "0c33b901",
   "metadata": {
    "papermill": {
     "duration": 0.006604,
     "end_time": "2024-05-01T11:08:09.313743",
     "exception": false,
     "start_time": "2024-05-01T11:08:09.307139",
     "status": "completed"
    },
    "tags": []
   },
   "source": [
    "# **Giriş ve çıkış parametrelerini belirleme**"
   ]
  },
  {
   "cell_type": "code",
   "execution_count": 2,
   "id": "67648b0c",
   "metadata": {
    "execution": {
     "iopub.execute_input": "2024-05-01T11:08:09.329876Z",
     "iopub.status.busy": "2024-05-01T11:08:09.329434Z",
     "iopub.status.idle": "2024-05-01T11:08:09.336267Z",
     "shell.execute_reply": "2024-05-01T11:08:09.335017Z"
    },
    "papermill": {
     "duration": 0.018609,
     "end_time": "2024-05-01T11:08:09.339248",
     "exception": false,
     "start_time": "2024-05-01T11:08:09.320639",
     "status": "completed"
    },
    "tags": []
   },
   "outputs": [],
   "source": [
    "#Giris Parametreleri\n",
    "bulasik_miktari = kontrol.Antecedent(mat.arange(0, 100, 1), 'bulaşık miktarı')\n",
    "kirlilik = kontrol.Antecedent( mat.arange(0, 100, 1), 'kirlilik seviyesi')\n",
    "#Cıkıs Parametresi\n",
    "yikama = kontrol.Consequent(mat.arange(0, 180, 1),'yıkama süresi')"
   ]
  },
  {
   "cell_type": "markdown",
   "id": "c16b0152",
   "metadata": {
    "papermill": {
     "duration": 0.00662,
     "end_time": "2024-05-01T11:08:09.352749",
     "exception": false,
     "start_time": "2024-05-01T11:08:09.346129",
     "status": "completed"
    },
    "tags": []
   },
   "source": [
    "# **Değişken isimlendirme**\n",
    "\n",
    "> **universe:** Üyelik fonksiyonunun evreni. Bu, belirli bir aralıktaki değerleri temsil eder.\n",
    "\n",
    "> **[a, b, c]:** Üçgenin temelini belirleyen üç noktanın koordinatları. Bu değerler, evrenin içindeki pozisyonları ifade eder.\n",
    "\n",
    "> **trimf** fonksiyonu ile üçgen bulanık kümeler oluşturulurken, üyelik fonksiyonlarının evren içindeki pozisyonları belirlenir ve bu pozisyonlar üçgenin temelini ve sınırlarını tanımlar. Bu değerler, bulanık mantık kurallarının ve sisteminin tanımlanmasında önemli bir role sahiptir."
   ]
  },
  {
   "cell_type": "code",
   "execution_count": 3,
   "id": "05d650b0",
   "metadata": {
    "execution": {
     "iopub.execute_input": "2024-05-01T11:08:09.368947Z",
     "iopub.status.busy": "2024-05-01T11:08:09.368274Z",
     "iopub.status.idle": "2024-05-01T11:08:09.382550Z",
     "shell.execute_reply": "2024-05-01T11:08:09.381616Z"
    },
    "papermill": {
     "duration": 0.025418,
     "end_time": "2024-05-01T11:08:09.385181",
     "exception": false,
     "start_time": "2024-05-01T11:08:09.359763",
     "status": "completed"
    },
    "tags": []
   },
   "outputs": [],
   "source": [
    "bulasik_miktari['az'] = bulanik.trimf(bulasik_miktari.universe, [0, 0, 30])\n",
    "bulasik_miktari['normal'] = bulanik.trimf(bulasik_miktari.universe, [10, 30, 60])\n",
    "bulasik_miktari['çok'] = bulanik.trimf(bulasik_miktari.universe, [50, 60, 100])\n",
    "kirlilik['az'] = bulanik.trimf(kirlilik.universe, [0, 0, 30])\n",
    "kirlilik['normal'] = bulanik.trimf(kirlilik.universe, [10, 30, 60])\n",
    "kirlilik['çok'] = bulanik.trimf(kirlilik.universe, [50, 60, 100])\n",
    "\n",
    "yikama['kisa'] = bulanik.trimf(yikama.universe, [0, 0, 50])\n",
    "yikama['normal'] = bulanik.trimf(yikama.universe, [40, 50, 100])\n",
    "yikama['uzun'] = bulanik.trimf(yikama.universe, [60, 80, 180])"
   ]
  },
  {
   "cell_type": "markdown",
   "id": "a1169418",
   "metadata": {
    "papermill": {
     "duration": 0.006822,
     "end_time": "2024-05-01T11:08:09.399346",
     "exception": false,
     "start_time": "2024-05-01T11:08:09.392524",
     "status": "completed"
    },
    "tags": []
   },
   "source": [
    "# **Bulanık mantık modeli kuralları entegre etme**"
   ]
  },
  {
   "cell_type": "code",
   "execution_count": 4,
   "id": "1cce79de",
   "metadata": {
    "execution": {
     "iopub.execute_input": "2024-05-01T11:08:09.415619Z",
     "iopub.status.busy": "2024-05-01T11:08:09.414895Z",
     "iopub.status.idle": "2024-05-01T11:08:09.424215Z",
     "shell.execute_reply": "2024-05-01T11:08:09.423190Z"
    },
    "papermill": {
     "duration": 0.020335,
     "end_time": "2024-05-01T11:08:09.426768",
     "exception": false,
     "start_time": "2024-05-01T11:08:09.406433",
     "status": "completed"
    },
    "tags": []
   },
   "outputs": [],
   "source": [
    "kural1 = kontrol.Rule(bulasik_miktari['az'] & kirlilik['az'], yikama['kisa'])\n",
    "kural2 = kontrol.Rule(bulasik_miktari['normal'] & kirlilik['az'], yikama['normal'])\n",
    "kural3 = kontrol.Rule(bulasik_miktari['çok'] & kirlilik['az'], yikama['normal'])\n",
    "kural4 = kontrol.Rule(bulasik_miktari['az'] & kirlilik['normal'], yikama['normal'])\n",
    "kural5 = kontrol.Rule(bulasik_miktari['normal'] & kirlilik['normal'], yikama['uzun'])\n",
    "kural6 = kontrol.Rule(bulasik_miktari['çok'] & kirlilik['normal'], yikama['uzun'])\n",
    "kural7 = kontrol.Rule(bulasik_miktari['az'] & kirlilik['çok'], yikama['normal'])\n",
    "kural8 = kontrol.Rule(bulasik_miktari['normal'] & kirlilik['çok'], yikama['uzun'])\n",
    "kural9 = kontrol.Rule(bulasik_miktari['çok'] & kirlilik['çok'], yikama['uzun'])"
   ]
  },
  {
   "cell_type": "markdown",
   "id": "abe1f877",
   "metadata": {
    "papermill": {
     "duration": 0.006531,
     "end_time": "2024-05-01T11:08:09.440053",
     "exception": false,
     "start_time": "2024-05-01T11:08:09.433522",
     "status": "completed"
    },
    "tags": []
   },
   "source": [
    "# **Bulanık kontrol sisteminin oluşturulması ve Simulasyonu**\n",
    "\n",
    "> **kontrol.ControlSystem()** fonksiyonu, belirli bir bulanık mantık sistemini oluşturmak için kullanılır. Bu fonksiyona, bulanık mantık kurallarını içeren bir liste verilir. Bu kurallar, önceden tanımlanmış bulanık mantık kural nesneleridir (kural1, kural2, ..., kural9).\n",
    "\n",
    "> **kontrol.ControlSystemSimulation()** fonksiyonu, belirli bir bulanık mantık sistemini simüle etmek için kullanılır. Bu fonksiyon, önceden tanımlanmış bir bulanık mantık sistemini alır ve bu sistemi simüle etmek için bir simülasyon nesnesi oluşturur. Bu nesne, sisteme belirli girişler verilerek sistemin çıktılarını hesaplamak için kullanılır."
   ]
  },
  {
   "cell_type": "code",
   "execution_count": 5,
   "id": "5faad020",
   "metadata": {
    "execution": {
     "iopub.execute_input": "2024-05-01T11:08:09.456128Z",
     "iopub.status.busy": "2024-05-01T11:08:09.454949Z",
     "iopub.status.idle": "2024-05-01T11:08:09.488113Z",
     "shell.execute_reply": "2024-05-01T11:08:09.486876Z"
    },
    "papermill": {
     "duration": 0.044076,
     "end_time": "2024-05-01T11:08:09.490936",
     "exception": false,
     "start_time": "2024-05-01T11:08:09.446860",
     "status": "completed"
    },
    "tags": []
   },
   "outputs": [],
   "source": [
    "sonuc = kontrol.ControlSystem([kural1, kural2, kural3, kural4, kural5, kural6, kural7, kural8, kural9])\n",
    "model_sonuc = kontrol.ControlSystemSimulation(sonuc) "
   ]
  },
  {
   "cell_type": "markdown",
   "id": "8a59e0f6",
   "metadata": {
    "papermill": {
     "duration": 0.006472,
     "end_time": "2024-05-01T11:08:09.504371",
     "exception": false,
     "start_time": "2024-05-01T11:08:09.497899",
     "status": "completed"
    },
    "tags": []
   },
   "source": [
    "# **Bulanık mantık modelinin Değerlendirilmesi**\n",
    "\n",
    "> **model_sonuc.compute()** ifadesi, verilen giriş değerleri için bulanık mantık sistemini simüle eder ve çıktıları hesaplar.\n",
    "\n",
    "> Bulanık mantık sistemlerinde çıktı genellikle kesin bir sayı değil, bir bulanık sayıdır. Dolayısıyla, belirli bir çıktı değeri yerine, bir bulanıklık derecesi veya bir dağılım elde edersiniz. Üyelik fonk. ile her bir değer hesaplanır ve ortalamaları alınır."
   ]
  },
  {
   "cell_type": "code",
   "execution_count": 6,
   "id": "a7bb7b3c",
   "metadata": {
    "execution": {
     "iopub.execute_input": "2024-05-01T11:08:09.520129Z",
     "iopub.status.busy": "2024-05-01T11:08:09.519688Z",
     "iopub.status.idle": "2024-05-01T11:08:09.535850Z",
     "shell.execute_reply": "2024-05-01T11:08:09.534406Z"
    },
    "papermill": {
     "duration": 0.027408,
     "end_time": "2024-05-01T11:08:09.538445",
     "exception": false,
     "start_time": "2024-05-01T11:08:09.511037",
     "status": "completed"
    },
    "tags": []
   },
   "outputs": [
    {
     "name": "stdout",
     "output_type": "stream",
     "text": [
      "113.76794296922321\n"
     ]
    }
   ],
   "source": [
    "model_sonuc.input['bulaşık miktarı'] = 50\n",
    "model_sonuc.input['kirlilik seviyesi']= 80\n",
    "model_sonuc.compute()\n",
    "print (model_sonuc.output['yıkama süresi'])"
   ]
  }
 ],
 "metadata": {
  "kaggle": {
   "accelerator": "none",
   "dataSources": [],
   "dockerImageVersionId": 30698,
   "isGpuEnabled": false,
   "isInternetEnabled": true,
   "language": "python",
   "sourceType": "notebook"
  },
  "kernelspec": {
   "display_name": "Python 3",
   "language": "python",
   "name": "python3"
  },
  "language_info": {
   "codemirror_mode": {
    "name": "ipython",
    "version": 3
   },
   "file_extension": ".py",
   "mimetype": "text/x-python",
   "name": "python",
   "nbconvert_exporter": "python",
   "pygments_lexer": "ipython3",
   "version": "3.10.13"
  },
  "papermill": {
   "default_parameters": {},
   "duration": 26.65044,
   "end_time": "2024-05-01T11:08:10.067863",
   "environment_variables": {},
   "exception": null,
   "input_path": "__notebook__.ipynb",
   "output_path": "__notebook__.ipynb",
   "parameters": {},
   "start_time": "2024-05-01T11:07:43.417423",
   "version": "2.5.0"
  }
 },
 "nbformat": 4,
 "nbformat_minor": 5
}
